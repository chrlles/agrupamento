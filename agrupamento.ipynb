{
 "cells": [
  {
   "cell_type": "markdown",
   "id": "c8ef689d",
   "metadata": {},
   "source": [
    "## Não Supervisionado ‒ AGRUPAMENTO"
   ]
  },
  {
   "cell_type": "code",
   "execution_count": null,
   "id": "da40ff68",
   "metadata": {},
   "outputs": [],
   "source": [
    "import matplotlib.pyplot as plt\n",
    "from mpl_toolkits.mplot3d import Axes3D\n",
    "from sklearn.cluster import KMeans\n",
    "from sklearn.datasets import load_iris\n",
    "\n",
    "############# Pré-processamento ###########\n",
    "\n",
    "# coleta e integrção\n",
    "iris = load_iris()\n",
    "caracteristicas = iris.data\n",
    "\n",
    "############ Mineração ##########\n",
    "grupos = KMeans(n_clusters=3)\n",
    "grupos.fit(X=caracteristicas)\n",
    "labels = grupos.labels_ # indice do grupo ao qual cada amostra pertence\n",
    "\n",
    "########## pós-procesesamento ###########\n",
    "fig = plt.figure(1)\n",
    "ax = Axes3D(fig)\n",
    "ax.set_xlabel('Comprimento da Sépala')\n",
    "ax.set_ylabel('Largura Sépala')\n",
    "ax.set_zlabel('Comprimento da Pétala')\n",
    "ax.scatter(caracteristicas[:, 0], caracteristicas[:, 1], caracteristicas[:, 2], c=grupos.labels_,\n",
    "edgecolor='k')\n",
    "target = iris.target\n",
    "fig = plt.figure(2)\n",
    "ax = Axes3D(fig)\n",
    "ax.set_xlabel('Comprimento Sépala')\n",
    "ax.set_ylabel('Largura Sépala')\n",
    "ax.set_zlabel('Comprimento Pétala')\n",
    "ax.scatter(caracteristicas[:, 0], caracteristicas[:, 1], caracteristicas[:, 2], c=target, edgecolor='k')\n",
    "plt.show()"
   ]
  },
  {
   "cell_type": "code",
   "execution_count": null,
   "id": "e9c351df",
   "metadata": {},
   "outputs": [],
   "source": []
  }
 ],
 "metadata": {
  "kernelspec": {
   "display_name": "Python 3",
   "language": "python",
   "name": "python3"
  },
  "language_info": {
   "codemirror_mode": {
    "name": "ipython",
    "version": 3
   },
   "file_extension": ".py",
   "mimetype": "text/x-python",
   "name": "python",
   "nbconvert_exporter": "python",
   "pygments_lexer": "ipython3",
   "version": "3.8.8"
  }
 },
 "nbformat": 4,
 "nbformat_minor": 5
}
